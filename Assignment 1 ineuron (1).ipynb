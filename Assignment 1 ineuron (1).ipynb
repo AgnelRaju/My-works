{
 "cells": [
  {
   "cell_type": "code",
   "execution_count": null,
   "metadata": {
    "scrolled": true
   },
   "outputs": [],
   "source": [
    "#   1)Prgoram 1\n",
    "# --------------------------\n",
    "for i in range(2000,3201):\n",
    "    if(i%7==0 and i%5!=0):\n",
    "        print(i,end=',')\n",
    "    "
   ]
  },
  {
   "cell_type": "code",
   "execution_count": null,
   "metadata": {},
   "outputs": [],
   "source": [
    "    \n",
    "#   2) Program 2    \n",
    "# ----------------------------\n",
    "fname = input('Enter your first name :- ')\n",
    "lname = input('Enter your last name :- ')\n",
    "li = [fname,lname]\n",
    "for  i in li:\n",
    "    print(i[::-1],end=(' '))\n",
    "    "
   ]
  },
  {
   "cell_type": "code",
   "execution_count": null,
   "metadata": {},
   "outputs": [],
   "source": [
    "#   3) Program 3\n",
    "#----------------------------\n",
    "import math\n",
    "d = 12/2\n",
    "v = (4/3)*math.pi*d**3    \n",
    "print('Volume of sphere :- ',v,'cm^3')   "
   ]
  },
  {
   "cell_type": "code",
   "execution_count": null,
   "metadata": {},
   "outputs": [],
   "source": []
  }
 ],
 "metadata": {
  "kernelspec": {
   "display_name": "Python 3",
   "language": "python",
   "name": "python3"
  },
  "language_info": {
   "codemirror_mode": {
    "name": "ipython",
    "version": 3
   },
   "file_extension": ".py",
   "mimetype": "text/x-python",
   "name": "python",
   "nbconvert_exporter": "python",
   "pygments_lexer": "ipython3",
   "version": "3.8.3"
  }
 },
 "nbformat": 4,
 "nbformat_minor": 4
}
