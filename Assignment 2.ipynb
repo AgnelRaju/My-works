{
 "cells": [
  {
   "cell_type": "code",
   "execution_count": null,
   "metadata": {},
   "outputs": [],
   "source": [
    "# 1) Program 1\n",
    "\n",
    "for i in range(0,5):\n",
    "    print('\\n')\n",
    "    for j in range(0,i+1):\n",
    "        print('*',end=' ')\n",
    "\n",
    "for k in range(4,0,-1):\n",
    "    print('\\n')\n",
    "    for l in range(k,0,-1):\n",
    "        print('*',end=' ')"
   ]
  },
  {
   "cell_type": "code",
   "execution_count": null,
   "metadata": {},
   "outputs": [],
   "source": [
    "# 2) Program 2\n",
    "\n",
    "word = input('Input word: ')\n",
    "print('Output word: ',word[::-1])"
   ]
  },
  {
   "cell_type": "code",
   "execution_count": null,
   "metadata": {},
   "outputs": [],
   "source": []
  }
 ],
 "metadata": {
  "kernelspec": {
   "display_name": "Python 3",
   "language": "python",
   "name": "python3"
  },
  "language_info": {
   "codemirror_mode": {
    "name": "ipython",
    "version": 3
   },
   "file_extension": ".py",
   "mimetype": "text/x-python",
   "name": "python",
   "nbconvert_exporter": "python",
   "pygments_lexer": "ipython3",
   "version": "3.8.3"
  }
 },
 "nbformat": 4,
 "nbformat_minor": 4
}
